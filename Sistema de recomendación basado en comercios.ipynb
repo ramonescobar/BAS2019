{
  "nbformat": 4,
  "nbformat_minor": 0,
  "metadata": {
    "kernelspec": {
      "name": "python3",
      "display_name": "Python 3"
    },
    "language_info": {
      "codemirror_mode": {
        "name": "ipython",
        "version": 3
      },
      "file_extension": ".py",
      "mimetype": "text/x-python",
      "name": "python",
      "nbconvert_exporter": "python",
      "pygments_lexer": "ipython3",
      "version": "3.7.3"
    },
    "colab": {
      "name": "Sistema de recomendación basado en comercios",
      "provenance": [],
      "private_outputs": true,
      "include_colab_link": true
    },
    "accelerator": "GPU"
  },
  "cells": [
    {
      "cell_type": "markdown",
      "metadata": {
        "id": "view-in-github",
        "colab_type": "text"
      },
      "source": [
        "<a href=\"https://colab.research.google.com/github/ramonescobar/BAS2019/blob/master/Sistema%20de%20recomendaci%C3%B3n%20basado%20en%20comercios.ipynb\" target=\"_parent\"><img src=\"https://colab.research.google.com/assets/colab-badge.svg\" alt=\"Open In Colab\"/></a>"
      ]
    },
    {
      "cell_type": "code",
      "metadata": {
        "id": "a4fsS6eK1kYz",
        "colab_type": "code",
        "colab": {}
      },
      "source": [
        "import pandas as pd\n",
        "from sklearn.feature_extraction.text import TfidfVectorizer\n",
        "from sklearn.metrics.pairwise import linear_kernel\n",
        "import nltk\n",
        "from nltk.corpus import stopwords\n",
        "import numpy as np"
      ],
      "execution_count": 0,
      "outputs": []
    },
    {
      "cell_type": "code",
      "metadata": {
        "id": "u_6u3n8S1kY4",
        "colab_type": "code",
        "colab": {}
      },
      "source": [
        "ds=pd.read_csv(\"ordenes.csv\",\n",
        "                       sep=\";\",\n",
        "                       encoding=\"latin-1\")\n",
        "ds=ds[ds[\"country\"]==\"HN\"].reset_index()"
      ],
      "execution_count": 0,
      "outputs": []
    },
    {
      "cell_type": "code",
      "metadata": {
        "id": "uAqmPuMh1kY7",
        "colab_type": "code",
        "colab": {}
      },
      "source": [
        "ds.head()"
      ],
      "execution_count": 0,
      "outputs": []
    },
    {
      "cell_type": "code",
      "metadata": {
        "scrolled": true,
        "id": "OjKGq2Tu1kY-",
        "colab_type": "code",
        "colab": {}
      },
      "source": [
        "stop_words_es = set(stopwords.words('spanish'))"
      ],
      "execution_count": 0,
      "outputs": []
    },
    {
      "cell_type": "code",
      "metadata": {
        "id": "oBZ5lfi8UrT9",
        "colab_type": "code",
        "colab": {}
      },
      "source": [
        "tf = TfidfVectorizer(analyzer='word', \n",
        "                      ngram_range=(1, 3), \n",
        "                      min_df=0, \n",
        "                      stop_words=stop_words_es)\n",
        "tfidf_matrix = tf.fit_transform(ds['keys'].apply(lambda x: np.str_(x)))\n",
        "cosine_similarities = linear_kernel(tfidf_matrix, tfidf_matrix)"
      ],
      "execution_count": 0,
      "outputs": []
    },
    {
      "cell_type": "code",
      "metadata": {
        "id": "MFAFtRYz1kZA",
        "colab_type": "code",
        "colab": {}
      },
      "source": [
        "def recommendations(title, cosine_sim = cosine_similarities):\n",
        "    recommended_movies = []\n",
        "    idx = ds[ds[\"partner_name\"] == title].index[0]\n",
        "    score_series = pd.Series(cosine_sim[idx]).sort_values(ascending = False)\n",
        "    top = list(score_series.iloc[1:3].index)\n",
        "    for i in top:\n",
        "        recommended_movies.append(list(ds[\"partner_name\"])[i])\n",
        "    return str(recommended_movies[1])\n",
        "\n",
        "ds[\"Recomendacion\"]=ds[\"partner_name\"].apply(recommendations)\n",
        "\n"
      ],
      "execution_count": 0,
      "outputs": []
    },
    {
      "cell_type": "code",
      "metadata": {
        "id": "sgyRgzcnN2wj",
        "colab_type": "code",
        "colab": {}
      },
      "source": [
        "ds.head(35)"
      ],
      "execution_count": 0,
      "outputs": []
    }
  ]
}